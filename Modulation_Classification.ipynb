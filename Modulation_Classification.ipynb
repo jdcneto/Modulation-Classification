{
  "nbformat": 4,
  "nbformat_minor": 0,
  "metadata": {
    "colab": {
      "name": "Modulation Classification.ipynb",
      "provenance": [],
      "toc_visible": true,
      "authorship_tag": "ABX9TyNGNXlqEC6S2ZGWslJUs3Aq",
      "include_colab_link": true
    },
    "kernelspec": {
      "name": "python3",
      "display_name": "Python 3"
    },
    "language_info": {
      "name": "python"
    },
    "accelerator": "GPU"
  },
  "cells": [
    {
      "cell_type": "markdown",
      "metadata": {
        "id": "view-in-github",
        "colab_type": "text"
      },
      "source": [
        "<a href=\"https://colab.research.google.com/github/jdcneto/Modulation-Classificaton/blob/main/Modulation_Classification.ipynb\" target=\"_parent\"><img src=\"https://colab.research.google.com/assets/colab-badge.svg\" alt=\"Open In Colab\"/></a>"
      ]
    },
    {
      "cell_type": "markdown",
      "metadata": {
        "id": "AI2_DX-Qio4x"
      },
      "source": [
        "## Modulation Recognition: RML2016.10a Dataset \n"
      ]
    },
    {
      "cell_type": "markdown",
      "metadata": {
        "id": "vkFyGZwAmqdn"
      },
      "source": [
        "# Import Packages"
      ]
    },
    {
      "cell_type": "code",
      "metadata": {
        "id": "ebTzsQh_io44"
      },
      "source": [
        "# Import packages\n",
        "%matplotlib inline\n",
        "import _pickle as cPickle\n",
        "import numpy as np\n",
        "import os, random\n",
        "import torch\n",
        "import torch.nn as nn\n",
        "import torch.nn.functional as F\n",
        "import torch.optim as optim\n",
        "from torch.utils.data import DataLoader, TensorDataset\n",
        "from torchsummary import summary\n",
        "from sklearn.metrics import confusion_matrix, classification_report\n",
        "import datetime\n",
        "import matplotlib.pyplot as plt\n",
        "import seaborn as sns\n"
      ],
      "execution_count": 1,
      "outputs": []
    },
    {
      "cell_type": "code",
      "metadata": {
        "id": "66eO6t52nKWI",
        "colab": {
          "base_uri": "https://localhost:8080/"
        },
        "outputId": "217c960d-1ee6-4c50-9f1c-12b4423b4fc8"
      },
      "source": [
        "device = torch.device(\"cuda:0\" if torch.cuda.is_available() else \"cpu\")\n",
        "print(device)"
      ],
      "execution_count": 2,
      "outputs": [
        {
          "output_type": "stream",
          "text": [
            "cuda:0\n"
          ],
          "name": "stdout"
        }
      ]
    },
    {
      "cell_type": "code",
      "metadata": {
        "id": "Mya1wscEo-JG"
      },
      "source": [
        "#setting seed for reproducibility\n",
        "seed = 10\n",
        "np.random.seed(seed)\n",
        "torch.manual_seed(seed);"
      ],
      "execution_count": 3,
      "outputs": []
    },
    {
      "cell_type": "markdown",
      "metadata": {
        "id": "8d5lqGC8io47"
      },
      "source": [
        "# Dataset setup"
      ]
    },
    {
      "cell_type": "code",
      "metadata": {
        "id": "u4b19R1Omjjd",
        "colab": {
          "base_uri": "https://localhost:8080/"
        },
        "outputId": "240dbaa6-089c-4aad-a6c3-be817344fe88"
      },
      "source": [
        "# Load the dataset ...\n",
        "from google.colab import drive\n",
        "drive.mount('/content/drive')"
      ],
      "execution_count": 4,
      "outputs": [
        {
          "output_type": "stream",
          "text": [
            "Drive already mounted at /content/drive; to attempt to forcibly remount, call drive.mount(\"/content/drive\", force_remount=True).\n"
          ],
          "name": "stdout"
        }
      ]
    },
    {
      "cell_type": "code",
      "metadata": {
        "id": "DkJy7f-eRIev"
      },
      "source": [
        "filename = \"/content/drive/MyDrive/RML2016.10a_dict.dat\"\n",
        "open_file = open(filename,'rb')\n",
        "Xd = cPickle.load(open_file, encoding='latin1')"
      ],
      "execution_count": 4,
      "outputs": []
    },
    {
      "cell_type": "code",
      "metadata": {
        "id": "22K4HIagio47",
        "colab": {
          "base_uri": "https://localhost:8080/"
        },
        "outputId": "828d7af1-7ee1-46a6-9c42-3a3946f2f048"
      },
      "source": [
        "snrs,mods = map(lambda j: sorted(list(set(map(lambda x: x[j], Xd.keys())))), [1,0])\n",
        "X = []  \n",
        "lbl = []\n",
        "for mod in mods:\n",
        "    for snr in snrs:\n",
        "        X.append(Xd[(mod,snr)])\n",
        "        for i in range(Xd[(mod,snr)].shape[0]):  lbl.append((mod,snr))\n",
        "X = np.vstack(X)\n",
        "print(X.shape)"
      ],
      "execution_count": 5,
      "outputs": [
        {
          "output_type": "stream",
          "text": [
            "(220000, 2, 128)\n"
          ],
          "name": "stdout"
        }
      ]
    },
    {
      "cell_type": "code",
      "metadata": {
        "scrolled": false,
        "id": "yKstS6yPio48"
      },
      "source": [
        "# Partition the data into train/test, 80% to train. while keeping SNR and Mod labels handy for each\n",
        "n_examples = X.shape[0]\n",
        "n_train = int(n_examples*.8)\n",
        "train_idx = np.random.choice(range(0,n_examples), size=n_train, replace=False)\n",
        "test_idx = list(set(range(0,n_examples))-set(train_idx))\n",
        "X_train = X[train_idx]\n",
        "X_test =  X[test_idx]"
      ],
      "execution_count": 6,
      "outputs": []
    },
    {
      "cell_type": "code",
      "metadata": {
        "colab": {
          "base_uri": "https://localhost:8080/"
        },
        "id": "IMR6Nt7w9ECH",
        "outputId": "1296dbea-abaf-4c37-bcd7-38c924be429e"
      },
      "source": [
        "print(X_train.shape, X_test.shape)"
      ],
      "execution_count": 7,
      "outputs": [
        {
          "output_type": "stream",
          "text": [
            "(176000, 2, 128) (44000, 2, 128)\n"
          ],
          "name": "stdout"
        }
      ]
    },
    {
      "cell_type": "code",
      "metadata": {
        "colab": {
          "base_uri": "https://localhost:8080/"
        },
        "id": "gfTgKLvrCVrt",
        "outputId": "d6feedc6-fe6d-463f-d494-316a2a89902a"
      },
      "source": [
        "print('modulation labels: {}'.format(mods))"
      ],
      "execution_count": 8,
      "outputs": [
        {
          "output_type": "stream",
          "text": [
            "modulation labels: ['8PSK', 'AM-DSB', 'AM-SSB', 'BPSK', 'CPFSK', 'GFSK', 'PAM4', 'QAM16', 'QAM64', 'QPSK', 'WBFM']\n"
          ],
          "name": "stdout"
        }
      ]
    },
    {
      "cell_type": "code",
      "metadata": {
        "id": "L-eoQ9_Hkg_v"
      },
      "source": [
        "# separating labels\n",
        "train_labels = np.array(list(map(lambda x: mods.index(lbl[x][0]), train_idx)), dtype=int)\n",
        "test_labels  = np.array(list(map(lambda x: mods.index(lbl[x][0]), test_idx)), dtype=int)"
      ],
      "execution_count": 9,
      "outputs": []
    },
    {
      "cell_type": "code",
      "metadata": {
        "colab": {
          "base_uri": "https://localhost:8080/"
        },
        "id": "Uuj7d8iL9of9",
        "outputId": "a83318bd-4b95-46b8-b4fa-989227a5e2a0"
      },
      "source": [
        "print(train_labels.shape, test_labels.shape)"
      ],
      "execution_count": 10,
      "outputs": [
        {
          "output_type": "stream",
          "text": [
            "(176000,) (44000,)\n"
          ],
          "name": "stdout"
        }
      ]
    },
    {
      "cell_type": "code",
      "metadata": {
        "colab": {
          "base_uri": "https://localhost:8080/"
        },
        "id": "ixD7wLNovqK4",
        "outputId": "9e483cdd-70ee-4e40-eb1b-75de3912d2a8"
      },
      "source": [
        "# reshaping data - add one dimension\n",
        "x_train = np.expand_dims(X_train, axis=1)\n",
        "x_test  = np.expand_dims(X_test, axis=1)\n",
        "print(x_train.shape, x_test.shape )"
      ],
      "execution_count": 11,
      "outputs": [
        {
          "output_type": "stream",
          "text": [
            "(176000, 1, 2, 128) (44000, 1, 2, 128)\n"
          ],
          "name": "stdout"
        }
      ]
    },
    {
      "cell_type": "code",
      "metadata": {
        "id": "aK9Mtz2FrI6N"
      },
      "source": [
        "# data loader to feed cnn model\n",
        "x_train, x_test = torch.Tensor(x_train), torch.Tensor(x_test)\n",
        "y_train, y_test = torch.Tensor(train_labels), torch.Tensor(test_labels)\n",
        " \n",
        "train_dataset = TensorDataset(x_train, y_train.type(torch.LongTensor))\n",
        "test_dataset  = TensorDataset(x_test, y_test.type(torch.LongTensor))"
      ],
      "execution_count": 12,
      "outputs": []
    },
    {
      "cell_type": "code",
      "metadata": {
        "id": "S5Avrr98-Xhr"
      },
      "source": [
        "batch_size = 2048\n",
        "TrainLoader = DataLoader(train_dataset, batch_size=batch_size, shuffle=False)\n",
        "TestLoader  = DataLoader(test_dataset, batch_size=batch_size, shuffle=False)"
      ],
      "execution_count": 13,
      "outputs": []
    },
    {
      "cell_type": "markdown",
      "metadata": {
        "id": "0_33lczLio4-"
      },
      "source": [
        "# Building the CNN Model"
      ]
    },
    {
      "cell_type": "code",
      "metadata": {
        "id": "vGvsOFeXQ2w9"
      },
      "source": [
        "# Dropout rate\n",
        "dr = 0.5"
      ],
      "execution_count": 14,
      "outputs": []
    },
    {
      "cell_type": "code",
      "metadata": {
        "id": "RMeuvn1-T_d5"
      },
      "source": [
        "# Build CNN model using Torch\n",
        "class CovNet(nn.Module):\n",
        "    def __init__(self):\n",
        "        super(CovNet, self).__init__()\n",
        "        self.conv1    = nn.Conv2d(1, 256, (1,7), padding=(0,3))\n",
        "        #nn.init.xavier_uniform_(self.conv1.weight,gain=nn.init.calculate_gain('relu'))\n",
        "        self.b1  = nn.BatchNorm2d(256)\n",
        "        self.dropout1 = nn.Dropout(dr)\n",
        "        self.conv2    = nn.Conv2d(256, 80, (2,7), padding=(0,3))\n",
        "        #nn.init.xavier_uniform_(self.conv2.weight,gain=nn.init.calculate_gain('relu'))\n",
        "        self.b2  = nn.BatchNorm2d(80)\n",
        "        self.dropout2 = nn.Dropout(dr)\n",
        "        self.fc1      = nn.Linear(80*128, 256)\n",
        "        #nn.init.kaiming_normal_(self.fc1.weight, nonlinearity='relu')\n",
        "        self.dropout3 = nn.Dropout(dr)\n",
        "        self.fc2      = nn.Linear(256, len(mods))\n",
        "        #nn.init.kaiming_normal_(self.fc2.weight, nonlinearity='sigmoid')\n",
        "      \n",
        "    def forward(self, x):\n",
        "          #x = self.zeropad1(x)\n",
        "          x = F.relu(self.conv1(x))\n",
        "          x= self.b1(x)\n",
        "          x = self.dropout1(x)\n",
        "          x = F.relu(self.conv2(x))\n",
        "          x = self.dropout2(x)\n",
        "          x= self.b2(x)\n",
        "          x = x.view(-1, 80*128)\n",
        "          x = F.relu(self.fc1(x))\n",
        "          x = self.dropout3(x)\n",
        "          out = self.fc2(x)\n",
        "          # x = self.fc2(x)\n",
        "          # out = F.log_softmax(self.fc2(x), dim=1)\n",
        "          return out\n",
        "          \n",
        "cnn = CovNet().to(device=device)"
      ],
      "execution_count": 16,
      "outputs": []
    },
    {
      "cell_type": "code",
      "metadata": {
        "colab": {
          "base_uri": "https://localhost:8080/"
        },
        "id": "kpvfqtpRSIgO",
        "outputId": "1890f3aa-9e49-4348-f70e-48f2fbf20293"
      },
      "source": [
        "summary(cnn, (1,2,128))"
      ],
      "execution_count": 17,
      "outputs": [
        {
          "output_type": "stream",
          "text": [
            "----------------------------------------------------------------\n",
            "        Layer (type)               Output Shape         Param #\n",
            "================================================================\n",
            "            Conv2d-1          [-1, 256, 2, 128]           2,048\n",
            "       BatchNorm2d-2          [-1, 256, 2, 128]             512\n",
            "           Dropout-3          [-1, 256, 2, 128]               0\n",
            "            Conv2d-4           [-1, 80, 1, 128]         286,800\n",
            "           Dropout-5           [-1, 80, 1, 128]               0\n",
            "       BatchNorm2d-6           [-1, 80, 1, 128]             160\n",
            "            Linear-7                  [-1, 256]       2,621,696\n",
            "           Dropout-8                  [-1, 256]               0\n",
            "            Linear-9                   [-1, 11]           2,827\n",
            "================================================================\n",
            "Total params: 2,914,043\n",
            "Trainable params: 2,914,043\n",
            "Non-trainable params: 0\n",
            "----------------------------------------------------------------\n",
            "Input size (MB): 0.00\n",
            "Forward/backward pass size (MB): 1.74\n",
            "Params size (MB): 11.12\n",
            "Estimated Total Size (MB): 12.86\n",
            "----------------------------------------------------------------\n"
          ],
          "name": "stdout"
        }
      ]
    },
    {
      "cell_type": "code",
      "metadata": {
        "id": "M6IU27-Y_MjY"
      },
      "source": [
        "criterion = nn.CrossEntropyLoss()\n",
        "optimizer = optim.Adam(cnn.parameters(), lr=0.001)"
      ],
      "execution_count": 18,
      "outputs": []
    },
    {
      "cell_type": "code",
      "metadata": {
        "id": "yCsgR9nB015C"
      },
      "source": [
        "# creating dictionary for statistics\n",
        "accuracy_stats = {\n",
        "    'train': [],\n",
        "    \"val\": []\n",
        "}\n",
        "loss_stats = {\n",
        "    'train': [],\n",
        "    \"val\": []\n",
        "}"
      ],
      "execution_count": 19,
      "outputs": []
    },
    {
      "cell_type": "code",
      "metadata": {
        "id": "ABaI8UP11EVf"
      },
      "source": [
        "def cnn_acc(y_pred, y_test):\n",
        "    y_pred_softmax = torch.log_softmax(y_pred, dim = 1)\n",
        "    _, y_pred_tags = torch.max(y_pred_softmax, dim = 1)    \n",
        "    \n",
        "    correct_pred = (y_pred_tags == y_test).float()\n",
        "    acc = correct_pred.sum() / len(correct_pred)\n",
        "    \n",
        "    acc = torch.round(acc * 100)\n",
        "    \n",
        "    return acc"
      ],
      "execution_count": 20,
      "outputs": []
    },
    {
      "cell_type": "markdown",
      "metadata": {
        "id": "FIUdebiQio5A"
      },
      "source": [
        "# Traininig the Model"
      ]
    },
    {
      "cell_type": "code",
      "metadata": {
        "colab": {
          "base_uri": "https://localhost:8080/"
        },
        "id": "Z-O7ovzrIlDR",
        "outputId": "4284fdfc-9b42-46d1-b672-867b92f281fd"
      },
      "source": [
        "num_epochs = 50\n",
        "min_val_loss = np.inf\n",
        "for epoch in range(1, num_epochs+1):  # loop over the dataset multiple times\n",
        "    cnn.train()   \n",
        "    train_epoch_loss = 0.0\n",
        "    train_epoch_acc  = 0.0\n",
        "\n",
        "    for batch_idx, (data, target) in enumerate(TrainLoader):\n",
        "        \n",
        "        data, target = data.to(device=device), target.to(device=device)\n",
        "        # zero the parameter gradients\n",
        "        optimizer.zero_grad()\n",
        "\n",
        "        # forward + backward + optimize\n",
        "        outputs = cnn(data)\n",
        "        loss = criterion(outputs, target)\n",
        "        acc = cnn_acc(outputs, target)\n",
        "        loss.backward()\n",
        "        optimizer.step()\n",
        "\n",
        "        train_epoch_loss += loss.item()\n",
        "        train_epoch_acc += acc.item()\n",
        "\n",
        "        # VALIDATION    \n",
        "    with torch.no_grad():\n",
        "        \n",
        "        val_epoch_loss = 0.0\n",
        "        val_epoch_acc = 0.0\n",
        "        \n",
        "        cnn.eval()\n",
        "        for X_val_batch, y_val_batch in TestLoader:\n",
        "            X_val_batch, y_val_batch = X_val_batch.to(device), y_val_batch.to(device)\n",
        "            \n",
        "            y_val_pred = cnn(X_val_batch)\n",
        "                        \n",
        "            val_loss = criterion(y_val_pred, y_val_batch)\n",
        "            val_acc = cnn_acc(y_val_pred, y_val_batch)\n",
        "            \n",
        "            val_epoch_loss += val_loss.item()\n",
        "            val_epoch_acc += val_acc.item()\n",
        "\n",
        "    loss_stats['train'].append(train_epoch_loss/len(TrainLoader))\n",
        "    loss_stats['val'].append(val_epoch_loss/len(TestLoader))\n",
        "    accuracy_stats['train'].append(train_epoch_acc/len(TrainLoader))\n",
        "    accuracy_stats['val'].append(val_epoch_acc/len(TestLoader))\n",
        "                              \n",
        "    print(f'Epoch {epoch}:  | Train Loss: {train_epoch_loss/len(TrainLoader):.5f} | Val Loss: {val_epoch_loss/len(TestLoader):.5f} | Train Acc: {train_epoch_acc/len(TrainLoader):.3f} | Val Acc: {val_epoch_acc/len(TestLoader):.3f}')\n",
        "    \n",
        "    if min_val_loss > val_epoch_loss:\n",
        "        min_val_loss = val_epoch_loss\n",
        "          \n",
        "        # Saving State Dict\n",
        "        torch.save(cnn.state_dict(), 'saved_model.pth')\n",
        "\n",
        "print('Finished Training')"
      ],
      "execution_count": 21,
      "outputs": [
        {
          "output_type": "stream",
          "text": [
            "Epoch 1:  | Train Loss: 1.75338 | Val Loss: 3.48891 | Train Acc: 35.151 | Val Acc: 17.636\n",
            "Epoch 2:  | Train Loss: 1.43289 | Val Loss: 1.39242 | Train Acc: 45.802 | Val Acc: 46.227\n",
            "Epoch 3:  | Train Loss: 1.37743 | Val Loss: 1.33613 | Train Acc: 47.302 | Val Acc: 48.818\n",
            "Epoch 4:  | Train Loss: 1.34995 | Val Loss: 1.39578 | Train Acc: 48.314 | Val Acc: 47.318\n",
            "Epoch 5:  | Train Loss: 1.32967 | Val Loss: 1.37069 | Train Acc: 48.826 | Val Acc: 47.955\n",
            "Epoch 6:  | Train Loss: 1.31419 | Val Loss: 1.33099 | Train Acc: 49.465 | Val Acc: 49.455\n",
            "Epoch 7:  | Train Loss: 1.30063 | Val Loss: 1.30545 | Train Acc: 49.802 | Val Acc: 50.318\n",
            "Epoch 8:  | Train Loss: 1.29144 | Val Loss: 1.46380 | Train Acc: 50.174 | Val Acc: 45.591\n",
            "Epoch 9:  | Train Loss: 1.27898 | Val Loss: 1.30257 | Train Acc: 50.628 | Val Acc: 49.955\n",
            "Epoch 10:  | Train Loss: 1.27107 | Val Loss: 1.30625 | Train Acc: 50.709 | Val Acc: 49.591\n",
            "Epoch 11:  | Train Loss: 1.26028 | Val Loss: 1.30201 | Train Acc: 51.279 | Val Acc: 50.227\n",
            "Epoch 12:  | Train Loss: 1.25065 | Val Loss: 1.27810 | Train Acc: 51.558 | Val Acc: 51.000\n",
            "Epoch 13:  | Train Loss: 1.24512 | Val Loss: 1.31125 | Train Acc: 51.767 | Val Acc: 49.864\n",
            "Epoch 14:  | Train Loss: 1.23747 | Val Loss: 1.27411 | Train Acc: 52.012 | Val Acc: 50.909\n",
            "Epoch 15:  | Train Loss: 1.22929 | Val Loss: 1.28516 | Train Acc: 52.360 | Val Acc: 50.636\n",
            "Epoch 16:  | Train Loss: 1.22078 | Val Loss: 1.28748 | Train Acc: 52.605 | Val Acc: 50.682\n",
            "Epoch 17:  | Train Loss: 1.21567 | Val Loss: 1.28551 | Train Acc: 53.035 | Val Acc: 50.409\n",
            "Epoch 18:  | Train Loss: 1.20904 | Val Loss: 1.27507 | Train Acc: 53.221 | Val Acc: 50.955\n",
            "Epoch 19:  | Train Loss: 1.20234 | Val Loss: 1.27774 | Train Acc: 53.419 | Val Acc: 51.136\n",
            "Epoch 20:  | Train Loss: 1.19680 | Val Loss: 1.37175 | Train Acc: 53.686 | Val Acc: 48.455\n",
            "Epoch 21:  | Train Loss: 1.19042 | Val Loss: 1.31717 | Train Acc: 53.860 | Val Acc: 49.818\n",
            "Epoch 22:  | Train Loss: 1.18441 | Val Loss: 1.31911 | Train Acc: 54.128 | Val Acc: 50.227\n",
            "Epoch 23:  | Train Loss: 1.17907 | Val Loss: 1.32208 | Train Acc: 54.291 | Val Acc: 49.955\n",
            "Epoch 24:  | Train Loss: 1.17275 | Val Loss: 1.30137 | Train Acc: 54.721 | Val Acc: 50.727\n",
            "Epoch 25:  | Train Loss: 1.16857 | Val Loss: 1.31149 | Train Acc: 54.895 | Val Acc: 50.000\n",
            "Epoch 26:  | Train Loss: 1.16088 | Val Loss: 1.27837 | Train Acc: 54.988 | Val Acc: 51.045\n",
            "Epoch 27:  | Train Loss: 1.15706 | Val Loss: 1.29102 | Train Acc: 55.140 | Val Acc: 51.318\n",
            "Epoch 28:  | Train Loss: 1.15343 | Val Loss: 1.28525 | Train Acc: 55.349 | Val Acc: 51.136\n",
            "Epoch 29:  | Train Loss: 1.14767 | Val Loss: 1.31618 | Train Acc: 55.686 | Val Acc: 50.227\n",
            "Epoch 30:  | Train Loss: 1.14518 | Val Loss: 1.30596 | Train Acc: 55.640 | Val Acc: 50.273\n",
            "Epoch 31:  | Train Loss: 1.14069 | Val Loss: 1.30111 | Train Acc: 56.047 | Val Acc: 50.727\n",
            "Epoch 32:  | Train Loss: 1.13501 | Val Loss: 1.28276 | Train Acc: 56.186 | Val Acc: 51.318\n",
            "Epoch 33:  | Train Loss: 1.13009 | Val Loss: 1.29682 | Train Acc: 56.372 | Val Acc: 51.273\n",
            "Epoch 34:  | Train Loss: 1.12614 | Val Loss: 1.35213 | Train Acc: 56.488 | Val Acc: 49.500\n",
            "Epoch 35:  | Train Loss: 1.12305 | Val Loss: 1.35228 | Train Acc: 56.488 | Val Acc: 50.364\n",
            "Epoch 36:  | Train Loss: 1.12097 | Val Loss: 1.28657 | Train Acc: 56.767 | Val Acc: 51.727\n",
            "Epoch 37:  | Train Loss: 1.11482 | Val Loss: 1.31023 | Train Acc: 56.953 | Val Acc: 50.773\n",
            "Epoch 38:  | Train Loss: 1.11309 | Val Loss: 1.28596 | Train Acc: 57.093 | Val Acc: 51.818\n",
            "Epoch 39:  | Train Loss: 1.10929 | Val Loss: 1.29619 | Train Acc: 57.186 | Val Acc: 51.227\n",
            "Epoch 40:  | Train Loss: 1.10482 | Val Loss: 1.28195 | Train Acc: 57.395 | Val Acc: 51.727\n",
            "Epoch 41:  | Train Loss: 1.10246 | Val Loss: 1.29088 | Train Acc: 57.360 | Val Acc: 51.591\n",
            "Epoch 42:  | Train Loss: 1.09828 | Val Loss: 1.28236 | Train Acc: 57.756 | Val Acc: 51.545\n",
            "Epoch 43:  | Train Loss: 1.09490 | Val Loss: 1.32183 | Train Acc: 57.802 | Val Acc: 50.727\n",
            "Epoch 44:  | Train Loss: 1.09109 | Val Loss: 1.29312 | Train Acc: 57.930 | Val Acc: 51.273\n",
            "Epoch 45:  | Train Loss: 1.08960 | Val Loss: 1.29939 | Train Acc: 57.977 | Val Acc: 51.818\n",
            "Epoch 46:  | Train Loss: 1.08443 | Val Loss: 1.35771 | Train Acc: 58.395 | Val Acc: 50.818\n",
            "Epoch 47:  | Train Loss: 1.08121 | Val Loss: 1.28013 | Train Acc: 58.465 | Val Acc: 52.182\n",
            "Epoch 48:  | Train Loss: 1.08079 | Val Loss: 1.32952 | Train Acc: 58.360 | Val Acc: 51.136\n",
            "Epoch 49:  | Train Loss: 1.07576 | Val Loss: 1.28196 | Train Acc: 58.465 | Val Acc: 52.409\n",
            "Epoch 50:  | Train Loss: 1.07726 | Val Loss: 1.31835 | Train Acc: 58.581 | Val Acc: 51.500\n",
            "Finished Training\n"
          ],
          "name": "stdout"
        }
      ]
    },
    {
      "cell_type": "markdown",
      "metadata": {
        "id": "7vywML8Dio5C"
      },
      "source": [
        "# Evaluate and Plot Model Performance"
      ]
    },
    {
      "cell_type": "code",
      "metadata": {
        "id": "mUh0cR7Rrmha",
        "colab": {
          "base_uri": "https://localhost:8080/"
        },
        "outputId": "c58a21bf-7b74-4f75-8378-5ed4d73fe02d"
      },
      "source": [
        "#loading \n",
        "model = CovNet().to(device=device)\n",
        "model.load_state_dict(torch.load('saved_model.pth',map_location=device))\n",
        "#model1.eval()"
      ],
      "execution_count": 24,
      "outputs": [
        {
          "output_type": "execute_result",
          "data": {
            "text/plain": [
              "<All keys matched successfully>"
            ]
          },
          "metadata": {
            "tags": []
          },
          "execution_count": 24
        }
      ]
    },
    {
      "cell_type": "code",
      "metadata": {
        "id": "pAyHAdsZlxjk",
        "colab": {
          "base_uri": "https://localhost:8080/"
        },
        "outputId": "81f1e042-f093-4879-f601-06311a74cf5a"
      },
      "source": [
        "for name, loader in [(\"train\", TrainLoader), (\"test\", TestLoader)]:\n",
        "  y_pred_list = []\n",
        "  correct = 0\n",
        "  total = 0\n",
        "  with torch.no_grad():\n",
        "      for inputs, labels in loader:\n",
        "        inputs = inputs.to(device=device)\n",
        "        labels = labels.to(device=device)\n",
        "        outputs = model(inputs)\n",
        "        _, predicted = torch.max(outputs, dim=1)\n",
        "        y_pred_list.append(predicted.cpu().numpy())\n",
        "        total += labels.shape[0]\n",
        "        correct += int((predicted == labels).sum())\n",
        "\n",
        "  print(\"Accuracy {}: {:.2f}\".format(name , correct / total))\n",
        "y_pred = [y for x in y_pred_list for y in x]"
      ],
      "execution_count": 38,
      "outputs": [
        {
          "output_type": "stream",
          "text": [
            "Accuracy train: 0.56\n",
            "Accuracy test: 0.51\n"
          ],
          "name": "stdout"
        }
      ]
    },
    {
      "cell_type": "markdown",
      "metadata": {
        "id": "TCRqlu7ZC48C"
      },
      "source": [
        "## Plot Model Statistics "
      ]
    },
    {
      "cell_type": "code",
      "metadata": {
        "colab": {
          "base_uri": "https://localhost:8080/",
          "height": 334
        },
        "id": "QrWy4vWpBG0D",
        "outputId": "43607fd8-bb0a-47cc-8479-5a4a4c517cb1"
      },
      "source": [
        "# Loss Figure plotting and saving figure\n",
        "plt.figure(figsize=(8,5)) \n",
        "plt.grid() \n",
        "plt.plot(loss_stats['train'])\n",
        "plt.plot(loss_stats['val'])\n",
        "plt.legend(['Training','Validation'])\n",
        "plt.ylabel('Loss'), plt.xlabel('Epochs')\n",
        "plt.savefig('loss_curve.pdf'), plt.show();"
      ],
      "execution_count": 57,
      "outputs": [
        {
          "output_type": "display_data",
          "data": {
            "image/png": "[encoded data removed]",
            "text/plain": [
              "<Figure size 576x360 with 1 Axes>"
            ]
          },
          "metadata": {
            "tags": [],
            "needs_background": "light"
          }
        }
      ]
    },
    {
      "cell_type": "code",
      "metadata": {
        "colab": {
          "base_uri": "https://localhost:8080/",
          "height": 334
        },
        "id": "_2FKRW3dC4de",
        "outputId": "db715b9d-36d2-4841-e8b8-122b5a26835f"
      },
      "source": [
        "# Accuracy plotting and saving figure\n",
        "plt.figure(figsize=(8,5)) \n",
        "plt.grid() \n",
        "plt.plot(accuracy_stats['train'])\n",
        "plt.plot(accuracy_stats['val'])\n",
        "plt.legend(['Training','Validation'])\n",
        "plt.ylabel('Accuracy'), plt.xlabel('Epochs')\n",
        "plt.savefig('acc_curve.pdf'), plt.show();"
      ],
      "execution_count": 58,
      "outputs": [
        {
          "output_type": "display_data",
          "data": {
            "image/png": "[encoded data removed]",
            "text/plain": [
              "<Figure size 576x360 with 1 Axes>"
            ]
          },
          "metadata": {
            "tags": [],
            "needs_background": "light"
          }
        }
      ]
    },
    {
      "cell_type": "markdown",
      "metadata": {
        "id": "9sx1YwrRFP2T"
      },
      "source": [
        "## Confusion Matrix and Classification Report"
      ]
    },
    {
      "cell_type": "code",
      "metadata": {
        "id": "9a2BDvK6io5E"
      },
      "source": [
        "def plot_confusion_matrix(cm, title='Confusion Matrix', cmap=plt.cm.Blues, labels=[]):\n",
        "    plt.figure(figsize=(8,5))\n",
        "    plt.imshow(cm, interpolation='nearest', cmap=cmap)\n",
        "    plt.title(title)\n",
        "    plt.colorbar()\n",
        "    tick_marks = np.arange(len(labels))\n",
        "    plt.xticks(tick_marks, labels, rotation=45)\n",
        "    plt.yticks(tick_marks, labels)\n",
        "    plt.tight_layout()\n",
        "    plt.ylabel('True label')\n",
        "    plt.xlabel('Predicted label')"
      ],
      "execution_count": 42,
      "outputs": []
    },
    {
      "cell_type": "code",
      "metadata": {
        "id": "CrVA8Vvvio5F",
        "colab": {
          "base_uri": "https://localhost:8080/",
          "height": 383
        },
        "outputId": "8ccc5b02-c25f-4bc6-dcdb-874de521ed34"
      },
      "source": [
        "# Plot confusion matrix\n",
        "cm = confusion_matrix(test_labels, y_pred)\n",
        "plot_confusion_matrix(cm, labels=mods)"
      ],
      "execution_count": 43,
      "outputs": [
        {
          "output_type": "display_data",
          "data": {
            "image/png": "[encoded data removed]",
            "text/plain": [
              "<Figure size 576x360 with 2 Axes>"
            ]
          },
          "metadata": {
            "tags": [],
            "needs_background": "light"
          }
        }
      ]
    },
    {
      "cell_type": "code",
      "metadata": {
        "id": "oA9RqNRbez3R",
        "colab": {
          "base_uri": "https://localhost:8080/"
        },
        "outputId": "74098479-4a33-433a-eb77-8987c2b0e619"
      },
      "source": [
        "# Classification Report\n",
        "report = classification_report(test_labels, y_pred, target_names=mods)\n",
        "print(report)"
      ],
      "execution_count": 48,
      "outputs": [
        {
          "output_type": "stream",
          "text": [
            "              precision    recall  f1-score   support\n",
            "\n",
            "        8PSK       0.39      0.55      0.46      3920\n",
            "      AM-DSB       0.62      0.65      0.63      3943\n",
            "      AM-SSB       0.25      0.95      0.39      4127\n",
            "        BPSK       0.87      0.59      0.70      3926\n",
            "       CPFSK       0.92      0.60      0.73      4028\n",
            "        GFSK       0.86      0.63      0.73      3978\n",
            "        PAM4       0.88      0.60      0.71      4048\n",
            "       QAM16       0.43      0.31      0.36      4080\n",
            "       QAM64       0.45      0.22      0.30      3969\n",
            "        QPSK       0.48      0.08      0.14      4074\n",
            "        WBFM       0.70      0.38      0.49      3907\n",
            "\n",
            "    accuracy                           0.51     44000\n",
            "   macro avg       0.62      0.51      0.51     44000\n",
            "weighted avg       0.62      0.51      0.51     44000\n",
            "\n"
          ],
          "name": "stdout"
        }
      ]
    }
  ]
}