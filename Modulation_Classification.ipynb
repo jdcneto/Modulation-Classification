{
  "nbformat": 4,
  "nbformat_minor": 0,
  "metadata": {
    "colab": {
      "name": "Modulation Classification.ipynb",
      "provenance": [],
      "authorship_tag": "ABX9TyMXYgwlfTUjjXPOCQk0AI5S",
      "include_colab_link": true
    },
    "kernelspec": {
      "name": "python3",
      "display_name": "Python 3"
    },
    "language_info": {
      "name": "python"
    },
    "accelerator": "GPU"
  },
  "cells": [
    {
      "cell_type": "markdown",
      "metadata": {
        "id": "view-in-github",
        "colab_type": "text"
      },
      "source": [
        "<a href=\"https://colab.research.google.com/github/jdcneto/Modulation-Classification/blob/main/Modulation_Classification.ipynb\" target=\"_parent\"><img src=\"https://colab.research.google.com/assets/colab-badge.svg\" alt=\"Open In Colab\"/></a>"
      ]
    },
    {
      "cell_type": "markdown",
      "metadata": {
        "id": "AI2_DX-Qio4x"
      },
      "source": [
        "## Modulation Recognition: RML2016.10a Dataset \n"
      ]
    },
    {
      "cell_type": "markdown",
      "metadata": {
        "id": "vkFyGZwAmqdn"
      },
      "source": [
        "# Import Packages"
      ]
    },
    {
      "cell_type": "code",
      "metadata": {
        "id": "ebTzsQh_io44"
      },
      "source": [
        "# Import packages\n",
        "%matplotlib inline\n",
        "import _pickle as cPickle\n",
        "import numpy as np\n",
        "import os, random\n",
        "import torch\n",
        "import torch.nn as nn\n",
        "import torch.nn.functional as F\n",
        "import torch.optim as optim\n",
        "from torch.utils.data import DataLoader, TensorDataset\n",
        "from torchsummary import summary\n",
        "from sklearn.metrics import confusion_matrix, classification_report\n",
        "import datetime\n",
        "import matplotlib.pyplot as plt\n",
        "import seaborn as sns\n"
      ],
      "execution_count": 1,
      "outputs": []
    },
    {
      "cell_type": "code",
      "metadata": {
        "id": "66eO6t52nKWI",
        "colab": {
          "base_uri": "https://localhost:8080/"
        },
        "outputId": "3128f63c-dd82-4920-824d-35577d9bba9e"
      },
      "source": [
        "device = torch.device(\"cuda:0\" if torch.cuda.is_available() else \"cpu\")\n",
        "print(device)"
      ],
      "execution_count": 2,
      "outputs": [
        {
          "output_type": "stream",
          "text": [
            "cuda:0\n"
          ],
          "name": "stdout"
        }
      ]
    },
    {
      "cell_type": "code",
      "metadata": {
        "id": "Mya1wscEo-JG"
      },
      "source": [
        "#setting seed for reproducibility\n",
        "seed = 10\n",
        "np.random.seed(seed)\n",
        "torch.manual_seed(seed);"
      ],
      "execution_count": 3,
      "outputs": []
    },
    {
      "cell_type": "markdown",
      "metadata": {
        "id": "8d5lqGC8io47"
      },
      "source": [
        "# Dataset setup"
      ]
    },
    {
      "cell_type": "code",
      "metadata": {
        "id": "u4b19R1Omjjd",
        "colab": {
          "base_uri": "https://localhost:8080/"
        },
        "outputId": "95a9ce75-cb59-4ffd-8fb3-2c8bf5220d21"
      },
      "source": [
        "# Load the dataset ...\n",
        "from google.colab import drive\n",
        "drive.mount('/content/drive')"
      ],
      "execution_count": 4,
      "outputs": [
        {
          "output_type": "stream",
          "text": [
            "Mounted at /content/drive\n"
          ],
          "name": "stdout"
        }
      ]
    },
    {
      "cell_type": "code",
      "metadata": {
        "id": "DkJy7f-eRIev"
      },
      "source": [
        "filename = \"/content/drive/MyDrive/RML2016.10a_dict.dat\"\n",
        "open_file = open(filename,'rb')\n",
        "Xd = cPickle.load(open_file, encoding='latin1')"
      ],
      "execution_count": 5,
      "outputs": []
    },
    {
      "cell_type": "code",
      "metadata": {
        "id": "22K4HIagio47",
        "colab": {
          "base_uri": "https://localhost:8080/"
        },
        "outputId": "267a884f-4b8a-4d08-c40f-367de2ceacac"
      },
      "source": [
        "snrs,mods = map(lambda j: sorted(list(set(map(lambda x: x[j], Xd.keys())))), [1,0])\n",
        "X = []  \n",
        "lbl = []\n",
        "for mod in mods:\n",
        "    for snr in snrs:\n",
        "        X.append(Xd[(mod,snr)])\n",
        "        for i in range(Xd[(mod,snr)].shape[0]):  lbl.append((mod,snr))\n",
        "X = np.vstack(X)\n",
        "print(X.shape)"
      ],
      "execution_count": 6,
      "outputs": [
        {
          "output_type": "stream",
          "text": [
            "(220000, 2, 128)\n"
          ],
          "name": "stdout"
        }
      ]
    },
    {
      "cell_type": "code",
      "metadata": {
        "scrolled": false,
        "id": "yKstS6yPio48"
      },
      "source": [
        "# Partition the data into train/test, 80% to train. while keeping SNR and Mod labels handy for each\n",
        "n_examples = X.shape[0]\n",
        "n_train = int(n_examples*.8)\n",
        "train_idx = np.random.choice(range(0,n_examples), size=n_train, replace=False)\n",
        "test_idx = list(set(range(0,n_examples))-set(train_idx))\n",
        "X_train = X[train_idx]\n",
        "X_test =  X[test_idx]"
      ],
      "execution_count": 7,
      "outputs": []
    },
    {
      "cell_type": "code",
      "metadata": {
        "colab": {
          "base_uri": "https://localhost:8080/"
        },
        "id": "IMR6Nt7w9ECH",
        "outputId": "36906dfa-0f4e-47fa-bd09-fa5ede316240"
      },
      "source": [
        "print(X_train.shape, X_test.shape)"
      ],
      "execution_count": 8,
      "outputs": [
        {
          "output_type": "stream",
          "text": [
            "(176000, 2, 128) (44000, 2, 128)\n"
          ],
          "name": "stdout"
        }
      ]
    },
    {
      "cell_type": "code",
      "metadata": {
        "colab": {
          "base_uri": "https://localhost:8080/"
        },
        "id": "gfTgKLvrCVrt",
        "outputId": "56b69128-66a7-43db-d8ae-e47e1a83ad7c"
      },
      "source": [
        "print('modulation labels: {}'.format(mods))"
      ],
      "execution_count": 9,
      "outputs": [
        {
          "output_type": "stream",
          "text": [
            "modulation labels: ['8PSK', 'AM-DSB', 'AM-SSB', 'BPSK', 'CPFSK', 'GFSK', 'PAM4', 'QAM16', 'QAM64', 'QPSK', 'WBFM']\n"
          ],
          "name": "stdout"
        }
      ]
    },
    {
      "cell_type": "code",
      "metadata": {
        "id": "L-eoQ9_Hkg_v"
      },
      "source": [
        "# separating labels\n",
        "train_labels = np.array(list(map(lambda x: mods.index(lbl[x][0]), train_idx)), dtype=int)\n",
        "test_labels  = np.array(list(map(lambda x: mods.index(lbl[x][0]), test_idx)), dtype=int)"
      ],
      "execution_count": 10,
      "outputs": []
    },
    {
      "cell_type": "code",
      "metadata": {
        "colab": {
          "base_uri": "https://localhost:8080/"
        },
        "id": "Uuj7d8iL9of9",
        "outputId": "901b087d-03a4-4a2e-8789-e870784ae0b9"
      },
      "source": [
        "print(train_labels.shape, test_labels.shape)"
      ],
      "execution_count": 11,
      "outputs": [
        {
          "output_type": "stream",
          "text": [
            "(176000,) (44000,)\n"
          ],
          "name": "stdout"
        }
      ]
    },
    {
      "cell_type": "code",
      "metadata": {
        "colab": {
          "base_uri": "https://localhost:8080/"
        },
        "id": "ixD7wLNovqK4",
        "outputId": "f91e071a-5294-4d37-d35c-fe5d6aee6ce6"
      },
      "source": [
        "# reshaping data - add one dimension\n",
        "x_train = np.expand_dims(X_train, axis=1)\n",
        "x_test  = np.expand_dims(X_test, axis=1)\n",
        "print(x_train.shape, x_test.shape )"
      ],
      "execution_count": 12,
      "outputs": [
        {
          "output_type": "stream",
          "text": [
            "(176000, 1, 2, 128) (44000, 1, 2, 128)\n"
          ],
          "name": "stdout"
        }
      ]
    },
    {
      "cell_type": "code",
      "metadata": {
        "id": "aK9Mtz2FrI6N"
      },
      "source": [
        "# data loader to feed cnn model\n",
        "x_train, x_test = torch.Tensor(x_train), torch.Tensor(x_test)\n",
        "y_train, y_test = torch.Tensor(train_labels), torch.Tensor(test_labels)\n",
        " \n",
        "train_dataset = TensorDataset(x_train, y_train.type(torch.LongTensor))\n",
        "test_dataset  = TensorDataset(x_test, y_test.type(torch.LongTensor))"
      ],
      "execution_count": 13,
      "outputs": []
    },
    {
      "cell_type": "code",
      "metadata": {
        "id": "S5Avrr98-Xhr"
      },
      "source": [
        "batch_size = 2048\n",
        "TrainLoader = DataLoader(train_dataset, batch_size=batch_size, shuffle=False)\n",
        "TestLoader  = DataLoader(test_dataset, batch_size=batch_size, shuffle=False)"
      ],
      "execution_count": 14,
      "outputs": []
    },
    {
      "cell_type": "markdown",
      "metadata": {
        "id": "0_33lczLio4-"
      },
      "source": [
        "# Building the CNN Model"
      ]
    },
    {
      "cell_type": "code",
      "metadata": {
        "id": "vGvsOFeXQ2w9"
      },
      "source": [
        "# Dropout rate\n",
        "dr = 0.6"
      ],
      "execution_count": 16,
      "outputs": []
    },
    {
      "cell_type": "code",
      "metadata": {
        "id": "Mra39v1qtT7d"
      },
      "source": [
        "# Build CNN model using Torch\n",
        "class CovNet(nn.Module):\n",
        "    def __init__(self):\n",
        "        super(CovNet, self).__init__()\n",
        "        self.conv1    = nn.Conv2d(1, 256, (1,7), padding=(0,3))\n",
        "        self.b1  = nn.BatchNorm2d(256)\n",
        "        nn.init.xavier_uniform_(self.conv1.weight,gain=nn.init.calculate_gain('relu'))\n",
        "        self.dropout1 = nn.Dropout(dr)\n",
        "        self.zeropad2 = nn.ZeroPad2d((0,2))\n",
        "        self.conv2    = nn.Conv2d(256, 128, (1,7), padding=(0,3))\n",
        "        nn.init.xavier_uniform_(self.conv2.weight,gain=nn.init.calculate_gain('relu'))\n",
        "        self.b2  = nn.BatchNorm2d(128)\n",
        "        self.dropout2 = nn.Dropout(dr)\n",
        "        self.conv3    = nn.Conv2d(128, 80, (2,7), padding=(0,3))\n",
        "        nn.init.xavier_uniform_(self.conv3.weight,gain=nn.init.calculate_gain('relu'))\n",
        "        self.b3  = nn.BatchNorm2d(80)\n",
        "        self.dropout3 = nn.Dropout(dr)\n",
        "        self.fc1      = nn.Linear(80*128, 256)\n",
        "        nn.init.kaiming_normal_(self.fc1.weight, nonlinearity='relu')\n",
        "        self.fc2      = nn.Linear(256, 128)\n",
        "        nn.init.kaiming_normal_(self.fc2.weight, nonlinearity='relu')\n",
        "        self.dropout4 = nn.Dropout(dr)\n",
        "        self.fc3      = nn.Linear(128, 64)\n",
        "        nn.init.kaiming_normal_(self.fc3.weight, nonlinearity='relu')\n",
        "        self.fc4      = nn.Linear(64, len(mods))\n",
        "        nn.init.kaiming_normal_(self.fc4.weight, nonlinearity='sigmoid')\n",
        "        \n",
        "    def forward(self, x):\n",
        "          x = F.relu(self.conv1(x))\n",
        "          x= self.b1(x)\n",
        "          x = self.dropout1(x)\n",
        "          x = F.relu(self.conv2(x))\n",
        "          x = self.dropout2(x)\n",
        "          x= self.b2(x)\n",
        "          x = F.relu(self.conv3(x))\n",
        "          x = self.dropout3(x)\n",
        "          x= self.b3(x)\n",
        "          x = x.view(-1, 80*128)\n",
        "          x = F.relu(self.fc1(x))\n",
        "          x = F.relu(self.fc2(x))\n",
        "          x = self.dropout4(x)\n",
        "          x = F.relu(self.fc3(x))\n",
        "          out = self.fc4(x)\n",
        "          # x = self.fc2(x)\n",
        "          # out = F.log_softmax(self.fc2(x), dim=1)\n",
        "          return out\n",
        "          \n",
        "cnn = CovNet().to(device=device)"
      ],
      "execution_count": 17,
      "outputs": []
    },
    {
      "cell_type": "code",
      "metadata": {
        "colab": {
          "base_uri": "https://localhost:8080/"
        },
        "id": "kpvfqtpRSIgO",
        "outputId": "21b4cd12-55cf-4180-e705-60b4442942bb"
      },
      "source": [
        "summary(cnn, (1,2,128))"
      ],
      "execution_count": 18,
      "outputs": [
        {
          "output_type": "stream",
          "text": [
            "----------------------------------------------------------------\n",
            "        Layer (type)               Output Shape         Param #\n",
            "================================================================\n",
            "            Conv2d-1          [-1, 256, 2, 128]           2,048\n",
            "       BatchNorm2d-2          [-1, 256, 2, 128]             512\n",
            "           Dropout-3          [-1, 256, 2, 128]               0\n",
            "            Conv2d-4          [-1, 128, 2, 128]         229,504\n",
            "           Dropout-5          [-1, 128, 2, 128]               0\n",
            "       BatchNorm2d-6          [-1, 128, 2, 128]             256\n",
            "            Conv2d-7           [-1, 80, 1, 128]         143,440\n",
            "           Dropout-8           [-1, 80, 1, 128]               0\n",
            "       BatchNorm2d-9           [-1, 80, 1, 128]             160\n",
            "           Linear-10                  [-1, 256]       2,621,696\n",
            "           Linear-11                  [-1, 128]          32,896\n",
            "          Dropout-12                  [-1, 128]               0\n",
            "           Linear-13                   [-1, 64]           8,256\n",
            "           Linear-14                   [-1, 11]             715\n",
            "================================================================\n",
            "Total params: 3,039,483\n",
            "Trainable params: 3,039,483\n",
            "Non-trainable params: 0\n",
            "----------------------------------------------------------------\n",
            "Input size (MB): 0.00\n",
            "Forward/backward pass size (MB): 2.49\n",
            "Params size (MB): 11.59\n",
            "Estimated Total Size (MB): 14.08\n",
            "----------------------------------------------------------------\n"
          ],
          "name": "stdout"
        }
      ]
    },
    {
      "cell_type": "code",
      "metadata": {
        "id": "M6IU27-Y_MjY"
      },
      "source": [
        "criterion = nn.CrossEntropyLoss()\n",
        "optimizer = optim.Adam(cnn.parameters(), lr=0.001)"
      ],
      "execution_count": 19,
      "outputs": []
    },
    {
      "cell_type": "code",
      "metadata": {
        "id": "yCsgR9nB015C"
      },
      "source": [
        "# creating dictionary for statistics\n",
        "accuracy_stats = {\n",
        "    'train': [],\n",
        "    \"val\": []\n",
        "}\n",
        "loss_stats = {\n",
        "    'train': [],\n",
        "    \"val\": []\n",
        "}"
      ],
      "execution_count": 20,
      "outputs": []
    },
    {
      "cell_type": "code",
      "metadata": {
        "id": "ABaI8UP11EVf"
      },
      "source": [
        "def cnn_acc(y_pred, y_test):\n",
        "    y_pred_softmax = torch.log_softmax(y_pred, dim = 1)\n",
        "    _, y_pred_tags = torch.max(y_pred_softmax, dim = 1)    \n",
        "    \n",
        "    correct_pred = (y_pred_tags == y_test).float()\n",
        "    acc = correct_pred.sum() / len(correct_pred)\n",
        "    \n",
        "    acc = torch.round(acc * 100)\n",
        "    \n",
        "    return acc"
      ],
      "execution_count": 21,
      "outputs": []
    },
    {
      "cell_type": "markdown",
      "metadata": {
        "id": "FIUdebiQio5A"
      },
      "source": [
        "# Traininig the Model"
      ]
    },
    {
      "cell_type": "code",
      "metadata": {
        "colab": {
          "base_uri": "https://localhost:8080/"
        },
        "id": "Z-O7ovzrIlDR",
        "outputId": "88b1c9d3-3869-4ed0-bd3b-b602e063d144"
      },
      "source": [
        "num_epochs = 50\n",
        "min_val_loss = np.inf\n",
        "for epoch in range(1, num_epochs+1):  # loop over the dataset multiple times\n",
        "    cnn.train()   \n",
        "    train_epoch_loss = 0.0\n",
        "    train_epoch_acc  = 0.0\n",
        "\n",
        "    for batch_idx, (data, target) in enumerate(TrainLoader):\n",
        "        \n",
        "        data, target = data.to(device=device), target.to(device=device)\n",
        "        # zero the parameter gradients\n",
        "        optimizer.zero_grad()\n",
        "\n",
        "        # forward + backward + optimize\n",
        "        outputs = cnn(data)\n",
        "        loss = criterion(outputs, target)\n",
        "        acc = cnn_acc(outputs, target)\n",
        "        loss.backward()\n",
        "        optimizer.step()\n",
        "\n",
        "        train_epoch_loss += loss.item()\n",
        "        train_epoch_acc += acc.item()\n",
        "\n",
        "        # VALIDATION    \n",
        "    with torch.no_grad():\n",
        "        \n",
        "        val_epoch_loss = 0.0\n",
        "        val_epoch_acc = 0.0\n",
        "        \n",
        "        cnn.eval()\n",
        "        for X_val_batch, y_val_batch in TestLoader:\n",
        "            X_val_batch, y_val_batch = X_val_batch.to(device), y_val_batch.to(device)\n",
        "            \n",
        "            y_val_pred = cnn(X_val_batch)\n",
        "                        \n",
        "            val_loss = criterion(y_val_pred, y_val_batch)\n",
        "            val_acc = cnn_acc(y_val_pred, y_val_batch)\n",
        "            \n",
        "            val_epoch_loss += val_loss.item()\n",
        "            val_epoch_acc += val_acc.item()\n",
        "\n",
        "    loss_stats['train'].append(train_epoch_loss/len(TrainLoader))\n",
        "    loss_stats['val'].append(val_epoch_loss/len(TestLoader))\n",
        "    accuracy_stats['train'].append(train_epoch_acc/len(TrainLoader))\n",
        "    accuracy_stats['val'].append(val_epoch_acc/len(TestLoader))\n",
        "                              \n",
        "    print(f'Epoch {epoch}:  | Train Loss: {train_epoch_loss/len(TrainLoader):.5f} | Val Loss: {val_epoch_loss/len(TestLoader):.5f} | Train Acc: {train_epoch_acc/len(TrainLoader):.3f} | Val Acc: {val_epoch_acc/len(TestLoader):.3f}')\n",
        "    \n",
        "    if min_val_loss > val_epoch_loss:\n",
        "        min_val_loss = val_epoch_loss\n",
        "          \n",
        "        # Saving State Dict\n",
        "        torch.save(cnn.state_dict(), 'saved_model.pth')\n",
        "\n",
        "print('Finished Training')"
      ],
      "execution_count": 22,
      "outputs": [
        {
          "output_type": "stream",
          "text": [
            "Epoch 1:  | Train Loss: 2.14981 | Val Loss: 5.34935 | Train Acc: 20.523 | Val Acc: 14.364\n",
            "Epoch 2:  | Train Loss: 1.69144 | Val Loss: 1.68087 | Train Acc: 35.477 | Val Acc: 38.227\n",
            "Epoch 3:  | Train Loss: 1.56164 | Val Loss: 1.55344 | Train Acc: 39.012 | Val Acc: 39.318\n",
            "Epoch 4:  | Train Loss: 1.48962 | Val Loss: 1.56428 | Train Acc: 43.035 | Val Acc: 41.682\n",
            "Epoch 5:  | Train Loss: 1.41032 | Val Loss: 1.37806 | Train Acc: 46.395 | Val Acc: 47.545\n",
            "Epoch 6:  | Train Loss: 1.36975 | Val Loss: 1.31773 | Train Acc: 47.744 | Val Acc: 49.545\n",
            "Epoch 7:  | Train Loss: 1.34332 | Val Loss: 1.68867 | Train Acc: 48.500 | Val Acc: 43.727\n",
            "Epoch 8:  | Train Loss: 1.32575 | Val Loss: 1.27342 | Train Acc: 49.314 | Val Acc: 51.227\n",
            "Epoch 9:  | Train Loss: 1.30908 | Val Loss: 1.31727 | Train Acc: 49.977 | Val Acc: 49.864\n",
            "Epoch 10:  | Train Loss: 1.29738 | Val Loss: 1.26645 | Train Acc: 50.628 | Val Acc: 51.909\n",
            "Epoch 11:  | Train Loss: 1.28756 | Val Loss: 1.42484 | Train Acc: 51.058 | Val Acc: 50.182\n",
            "Epoch 12:  | Train Loss: 1.27495 | Val Loss: 1.26020 | Train Acc: 51.558 | Val Acc: 52.409\n",
            "Epoch 13:  | Train Loss: 1.26689 | Val Loss: 1.27614 | Train Acc: 51.953 | Val Acc: 52.409\n",
            "Epoch 14:  | Train Loss: 1.25837 | Val Loss: 1.22010 | Train Acc: 52.314 | Val Acc: 53.545\n",
            "Epoch 15:  | Train Loss: 1.24984 | Val Loss: 1.41585 | Train Acc: 52.802 | Val Acc: 50.909\n",
            "Epoch 16:  | Train Loss: 1.24142 | Val Loss: 1.23655 | Train Acc: 53.244 | Val Acc: 54.136\n",
            "Epoch 17:  | Train Loss: 1.23296 | Val Loss: 1.22577 | Train Acc: 53.442 | Val Acc: 54.545\n",
            "Epoch 18:  | Train Loss: 1.22816 | Val Loss: 1.77849 | Train Acc: 53.709 | Val Acc: 44.955\n",
            "Epoch 19:  | Train Loss: 1.21987 | Val Loss: 1.22128 | Train Acc: 54.140 | Val Acc: 54.091\n",
            "Epoch 20:  | Train Loss: 1.21279 | Val Loss: 1.20921 | Train Acc: 54.442 | Val Acc: 54.091\n",
            "Epoch 21:  | Train Loss: 1.20982 | Val Loss: 1.22720 | Train Acc: 54.488 | Val Acc: 53.955\n",
            "Epoch 22:  | Train Loss: 1.20334 | Val Loss: 1.32229 | Train Acc: 54.733 | Val Acc: 51.773\n",
            "Epoch 23:  | Train Loss: 1.19833 | Val Loss: 1.27657 | Train Acc: 54.802 | Val Acc: 52.500\n",
            "Epoch 24:  | Train Loss: 1.19407 | Val Loss: 1.25711 | Train Acc: 55.023 | Val Acc: 53.182\n",
            "Epoch 25:  | Train Loss: 1.18936 | Val Loss: 1.23644 | Train Acc: 55.291 | Val Acc: 54.000\n",
            "Epoch 26:  | Train Loss: 1.18552 | Val Loss: 1.30374 | Train Acc: 55.384 | Val Acc: 51.591\n",
            "Epoch 27:  | Train Loss: 1.18120 | Val Loss: 1.18771 | Train Acc: 55.442 | Val Acc: 55.045\n",
            "Epoch 28:  | Train Loss: 1.17973 | Val Loss: 1.33585 | Train Acc: 55.605 | Val Acc: 51.545\n",
            "Epoch 29:  | Train Loss: 1.17577 | Val Loss: 1.19609 | Train Acc: 55.721 | Val Acc: 55.591\n",
            "Epoch 30:  | Train Loss: 1.17296 | Val Loss: 1.19225 | Train Acc: 55.686 | Val Acc: 55.000\n",
            "Epoch 31:  | Train Loss: 1.16996 | Val Loss: 1.20171 | Train Acc: 55.977 | Val Acc: 54.682\n",
            "Epoch 32:  | Train Loss: 1.16508 | Val Loss: 1.16658 | Train Acc: 56.163 | Val Acc: 56.682\n",
            "Epoch 33:  | Train Loss: 1.16200 | Val Loss: 1.38660 | Train Acc: 56.256 | Val Acc: 50.364\n",
            "Epoch 34:  | Train Loss: 1.15922 | Val Loss: 1.20729 | Train Acc: 56.360 | Val Acc: 54.409\n",
            "Epoch 35:  | Train Loss: 1.15580 | Val Loss: 1.18830 | Train Acc: 56.407 | Val Acc: 55.136\n",
            "Epoch 36:  | Train Loss: 1.15173 | Val Loss: 1.20503 | Train Acc: 56.616 | Val Acc: 54.818\n",
            "Epoch 37:  | Train Loss: 1.14768 | Val Loss: 1.76171 | Train Acc: 56.733 | Val Acc: 48.182\n",
            "Epoch 38:  | Train Loss: 1.14626 | Val Loss: 1.19183 | Train Acc: 56.779 | Val Acc: 55.455\n",
            "Epoch 39:  | Train Loss: 1.14151 | Val Loss: 1.46772 | Train Acc: 56.988 | Val Acc: 51.955\n",
            "Epoch 40:  | Train Loss: 1.13812 | Val Loss: 1.52528 | Train Acc: 57.000 | Val Acc: 47.955\n",
            "Epoch 41:  | Train Loss: 1.13555 | Val Loss: 1.15573 | Train Acc: 57.140 | Val Acc: 56.273\n",
            "Epoch 42:  | Train Loss: 1.13220 | Val Loss: 1.62910 | Train Acc: 57.326 | Val Acc: 45.955\n",
            "Epoch 43:  | Train Loss: 1.12895 | Val Loss: 1.16408 | Train Acc: 57.384 | Val Acc: 56.182\n",
            "Epoch 44:  | Train Loss: 1.12546 | Val Loss: 1.18313 | Train Acc: 57.523 | Val Acc: 55.364\n",
            "Epoch 45:  | Train Loss: 1.12070 | Val Loss: 1.38953 | Train Acc: 57.593 | Val Acc: 50.409\n",
            "Epoch 46:  | Train Loss: 1.12074 | Val Loss: 1.27474 | Train Acc: 57.616 | Val Acc: 53.045\n",
            "Epoch 47:  | Train Loss: 1.11554 | Val Loss: 1.39655 | Train Acc: 57.849 | Val Acc: 52.182\n",
            "Epoch 48:  | Train Loss: 1.11121 | Val Loss: 1.24139 | Train Acc: 57.930 | Val Acc: 54.227\n",
            "Epoch 49:  | Train Loss: 1.10994 | Val Loss: 1.17034 | Train Acc: 58.163 | Val Acc: 56.000\n",
            "Epoch 50:  | Train Loss: 1.10550 | Val Loss: 1.49352 | Train Acc: 58.244 | Val Acc: 49.636\n",
            "Finished Training\n"
          ],
          "name": "stdout"
        }
      ]
    },
    {
      "cell_type": "markdown",
      "metadata": {
        "id": "7vywML8Dio5C"
      },
      "source": [
        "# Evaluate and Plot Model Performance"
      ]
    },
    {
      "cell_type": "code",
      "metadata": {
        "id": "mUh0cR7Rrmha",
        "colab": {
          "base_uri": "https://localhost:8080/"
        },
        "outputId": "0e2cd114-b6d3-4e3b-db4b-05c1853d6af8"
      },
      "source": [
        "#loading \n",
        "model = CovNet().to(device=device)\n",
        "model.load_state_dict(torch.load('saved_model.pth',map_location=device))\n",
        "model.eval()"
      ],
      "execution_count": 32,
      "outputs": [
        {
          "output_type": "execute_result",
          "data": {
            "text/plain": [
              "CovNet(\n",
              "  (conv1): Conv2d(1, 256, kernel_size=(1, 7), stride=(1, 1), padding=(0, 3))\n",
              "  (b1): BatchNorm2d(256, eps=1e-05, momentum=0.1, affine=True, track_running_stats=True)\n",
              "  (dropout1): Dropout(p=0.6, inplace=False)\n",
              "  (zeropad2): ZeroPad2d(padding=(0, 2), value=0.0)\n",
              "  (conv2): Conv2d(256, 128, kernel_size=(1, 7), stride=(1, 1), padding=(0, 3))\n",
              "  (b2): BatchNorm2d(128, eps=1e-05, momentum=0.1, affine=True, track_running_stats=True)\n",
              "  (dropout2): Dropout(p=0.6, inplace=False)\n",
              "  (conv3): Conv2d(128, 80, kernel_size=(2, 7), stride=(1, 1), padding=(0, 3))\n",
              "  (b3): BatchNorm2d(80, eps=1e-05, momentum=0.1, affine=True, track_running_stats=True)\n",
              "  (dropout3): Dropout(p=0.6, inplace=False)\n",
              "  (fc1): Linear(in_features=10240, out_features=256, bias=True)\n",
              "  (fc2): Linear(in_features=256, out_features=128, bias=True)\n",
              "  (dropout4): Dropout(p=0.6, inplace=False)\n",
              "  (fc3): Linear(in_features=128, out_features=64, bias=True)\n",
              "  (fc4): Linear(in_features=64, out_features=11, bias=True)\n",
              ")"
            ]
          },
          "metadata": {
            "tags": []
          },
          "execution_count": 32
        }
      ]
    },
    {
      "cell_type": "code",
      "metadata": {
        "id": "pAyHAdsZlxjk",
        "colab": {
          "base_uri": "https://localhost:8080/"
        },
        "outputId": "687f45f2-cfba-44e5-b252-6e5a3a394c86"
      },
      "source": [
        "for name, loader in [(\"train\", TrainLoader), (\"test\", TestLoader)]:\n",
        "  y_pred_list = []\n",
        "  correct = 0\n",
        "  total = 0\n",
        "  with torch.no_grad():\n",
        "      for inputs, labels in loader:\n",
        "        inputs = inputs.to(device=device)\n",
        "        labels = labels.to(device=device)\n",
        "        outputs = model(inputs)\n",
        "        _, predicted = torch.max(outputs, dim=1)\n",
        "        y_pred_list.append(predicted.cpu().numpy())\n",
        "        total += labels.shape[0]\n",
        "        correct += int((predicted == labels).sum())\n",
        "\n",
        "  print(\"Accuracy {}: {:.2f}\".format(name , correct / total))\n",
        "y_pred = [y for x in y_pred_list for y in x]"
      ],
      "execution_count": 33,
      "outputs": [
        {
          "output_type": "stream",
          "text": [
            "Accuracy train: 0.59\n",
            "Accuracy test: 0.56\n"
          ],
          "name": "stdout"
        }
      ]
    },
    {
      "cell_type": "markdown",
      "metadata": {
        "id": "TCRqlu7ZC48C"
      },
      "source": [
        "## Plot Model Statistics "
      ]
    },
    {
      "cell_type": "code",
      "metadata": {
        "colab": {
          "base_uri": "https://localhost:8080/",
          "height": 334
        },
        "id": "QrWy4vWpBG0D",
        "outputId": "6d580bac-188b-4d28-d259-c8c1c5ab463c"
      },
      "source": [
        "# Loss Figure plotting and saving figure\n",
        "plt.figure(figsize=(8,5)) \n",
        "plt.grid() \n",
        "plt.plot(loss_stats['train'])\n",
        "plt.plot(loss_stats['val'])\n",
        "plt.legend(['Training','Validation'])\n",
        "plt.ylabel('Loss'), plt.xlabel('Epochs')\n",
        "plt.savefig('loss_curve.pdf'), plt.show();"
      ],
      "execution_count": 26,
      "outputs": [
        {
          "output_type": "display_data",
          "data": {
            "image/png": "[encoded data removed]",
            "text/plain": [
              "<Figure size 576x360 with 1 Axes>"
            ]
          },
          "metadata": {
            "tags": [],
            "needs_background": "light"
          }
        }
      ]
    },
    {
      "cell_type": "code",
      "metadata": {
        "colab": {
          "base_uri": "https://localhost:8080/",
          "height": 334
        },
        "id": "_2FKRW3dC4de",
        "outputId": "d1743d78-1e90-4436-c00d-43e10e7d881d"
      },
      "source": [
        "# Accuracy plotting and saving figure\n",
        "plt.figure(figsize=(8,5)) \n",
        "plt.grid() \n",
        "plt.plot(accuracy_stats['train'])\n",
        "plt.plot(accuracy_stats['val'])\n",
        "plt.legend(['Training','Validation'])\n",
        "plt.ylabel('Accuracy'), plt.xlabel('Epochs')\n",
        "plt.savefig('acc_curve.pdf'), plt.show();"
      ],
      "execution_count": 27,
      "outputs": [
        {
          "output_type": "display_data",
          "data": {
            "image/png": "[encoded data removed]",
            "text/plain": [
              "<Figure size 576x360 with 1 Axes>"
            ]
          },
          "metadata": {
            "tags": [],
            "needs_background": "light"
          }
        }
      ]
    },
    {
      "cell_type": "markdown",
      "metadata": {
        "id": "9sx1YwrRFP2T"
      },
      "source": [
        "## Confusion Matrix and Classification Report"
      ]
    },
    {
      "cell_type": "code",
      "metadata": {
        "id": "9a2BDvK6io5E"
      },
      "source": [
        "def plot_confusion_matrix(cm, title='Confusion Matrix', cmap=plt.cm.Blues, labels=[]):\n",
        "    plt.figure(figsize=(8,5))\n",
        "    plt.imshow(cm, interpolation='nearest', cmap=cmap)\n",
        "    plt.title(title)\n",
        "    plt.colorbar()\n",
        "    tick_marks = np.arange(len(labels))\n",
        "    plt.xticks(tick_marks, labels, rotation=45)\n",
        "    plt.yticks(tick_marks, labels)\n",
        "    plt.tight_layout()\n",
        "    plt.ylabel('True label')\n",
        "    plt.xlabel('Predicted label')\n",
        "    plt.savefig('cm.pdf'), plt.show();"
      ],
      "execution_count": 37,
      "outputs": []
    },
    {
      "cell_type": "code",
      "metadata": {
        "id": "CrVA8Vvvio5F",
        "colab": {
          "base_uri": "https://localhost:8080/",
          "height": 383
        },
        "outputId": "9c2a0eb7-1df4-4486-c2d3-e5fdf70f82e6"
      },
      "source": [
        "# Plot confusion matrix\n",
        "cm = confusion_matrix(test_labels, y_pred)\n",
        "plot_confusion_matrix(cm, labels=mods)"
      ],
      "execution_count": 38,
      "outputs": [
        {
          "output_type": "display_data",
          "data": {
            "image/png": "[encoded data removed]",
            "text/plain": [
              "<Figure size 576x360 with 2 Axes>"
            ]
          },
          "metadata": {
            "tags": [],
            "needs_background": "light"
          }
        }
      ]
    },
    {
      "cell_type": "code",
      "metadata": {
        "id": "oA9RqNRbez3R",
        "colab": {
          "base_uri": "https://localhost:8080/"
        },
        "outputId": "fc958c87-4988-4f18-ab15-3d5eca1f90aa"
      },
      "source": [
        "# Classification Report\n",
        "report = classification_report(test_labels, y_pred, target_names=mods)\n",
        "print(report)"
      ],
      "execution_count": 39,
      "outputs": [
        {
          "output_type": "stream",
          "text": [
            "              precision    recall  f1-score   support\n",
            "\n",
            "        8PSK       0.70      0.56      0.62      3920\n",
            "      AM-DSB       0.72      0.35      0.47      3943\n",
            "      AM-SSB       0.26      0.98      0.41      4127\n",
            "        BPSK       0.88      0.59      0.71      3926\n",
            "       CPFSK       0.83      0.63      0.72      4028\n",
            "        GFSK       0.88      0.66      0.75      3978\n",
            "        PAM4       0.86      0.63      0.73      4048\n",
            "       QAM16       0.47      0.51      0.49      4080\n",
            "       QAM64       0.24      0.01      0.01      3969\n",
            "        QPSK       0.78      0.56      0.65      4074\n",
            "        WBFM       0.59      0.66      0.62      3907\n",
            "\n",
            "    accuracy                           0.56     44000\n",
            "   macro avg       0.65      0.56      0.56     44000\n",
            "weighted avg       0.65      0.56      0.56     44000\n",
            "\n"
          ],
          "name": "stdout"
        }
      ]
    }
  ]
}